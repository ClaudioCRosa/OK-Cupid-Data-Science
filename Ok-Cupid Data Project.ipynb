{
 "cells": [
  {
   "cell_type": "code",
   "execution_count": 1,
   "id": "0adb5376",
   "metadata": {},
   "outputs": [
    {
     "name": "stdout",
     "output_type": "stream",
     "text": [
      "   age       body_type               diet      drinks      drugs  \\\n",
      "0   22  a little extra  strictly anything    socially      never   \n",
      "1   35         average       mostly other       often  sometimes   \n",
      "2   38            thin           anything    socially        NaN   \n",
      "3   23            thin         vegetarian    socially        NaN   \n",
      "4   29        athletic                NaN    socially      never   \n",
      "5   29         average    mostly anything    socially        NaN   \n",
      "6   32             fit  strictly anything    socially      never   \n",
      "7   31         average    mostly anything    socially      never   \n",
      "8   24             NaN  strictly anything    socially        NaN   \n",
      "9   37        athletic    mostly anything  not at all      never   \n",
      "\n",
      "                           education  \\\n",
      "0      working on college/university   \n",
      "1              working on space camp   \n",
      "2     graduated from masters program   \n",
      "3      working on college/university   \n",
      "4  graduated from college/university   \n",
      "5  graduated from college/university   \n",
      "6  graduated from college/university   \n",
      "7  graduated from college/university   \n",
      "8  graduated from college/university   \n",
      "9        working on two-year college   \n",
      "\n",
      "                                              essay0  \\\n",
      "0  about me:<br />\\n<br />\\ni would love to think...   \n",
      "1  i am a chef: this is what that means.<br />\\n1...   \n",
      "2  i'm not ashamed of much, but writing public te...   \n",
      "3          i work in a library and go to school. . .   \n",
      "4  hey how's it going? currently vague on the pro...   \n",
      "5  i'm an australian living in san francisco, but...   \n",
      "6  life is about the little things. i love to lau...   \n",
      "7                                                NaN   \n",
      "8                                                NaN   \n",
      "9  my names jake.<br />\\ni'm a creative guy and i...   \n",
      "\n",
      "                                              essay1  \\\n",
      "0  currently working as an international agent fo...   \n",
      "1  dedicating everyday to being an unbelievable b...   \n",
      "2  i make nerdy software for musicians, artists, ...   \n",
      "3          reading things written by old dead people   \n",
      "4                         work work work work + play   \n",
      "5  building awesome stuff. figuring out what's im...   \n",
      "6                         digging up buried treasure   \n",
      "7  writing. meeting new people, spending time wit...   \n",
      "8  oh goodness. at the moment i have 4 jobs, so i...   \n",
      "9  i have an apartment. i like to explore and che...   \n",
      "\n",
      "                                              essay2  \\\n",
      "0  making people laugh.<br />\\nranting about a go...   \n",
      "1  being silly. having ridiculous amonts of fun w...   \n",
      "2  improvising in different contexts. alternating...   \n",
      "3  playing synthesizers and organizing books acco...   \n",
      "4  creating imagery to look at:<br />\\nhttp://bag...   \n",
      "5  imagining random shit. laughing at aforementio...   \n",
      "6  frolicking<br />\\nwitty banter<br />\\nusing my...   \n",
      "7  remembering people's birthdays, sending cards,...   \n",
      "8                                                NaN   \n",
      "9  i'm good at finding creative solutions to prob...   \n",
      "\n",
      "                                              essay3  ...  \\\n",
      "0  the way i look. i am a six foot half asian, ha...  ...   \n",
      "1                                                NaN  ...   \n",
      "2  my large jaw and large glasses are the physica...  ...   \n",
      "3                  socially awkward but i do my best  ...   \n",
      "4            i smile a lot and my inquisitive nature  ...   \n",
      "5  i have a big smile. i also get asked if i'm we...  ...   \n",
      "6                              i am the last unicorn  ...   \n",
      "7  i'm rather approachable (a byproduct of being ...  ...   \n",
      "8  i'm freakishly blonde and have the same name a...  ...   \n",
      "9                                          i'm short  ...   \n",
      "\n",
      "                          location  \\\n",
      "0  south san francisco, california   \n",
      "1              oakland, california   \n",
      "2        san francisco, california   \n",
      "3             berkeley, california   \n",
      "4        san francisco, california   \n",
      "5        san francisco, california   \n",
      "6        san francisco, california   \n",
      "7        san francisco, california   \n",
      "8    belvedere tiburon, california   \n",
      "9            san mateo, california   \n",
      "\n",
      "                                      offspring orientation  \\\n",
      "0  doesn&rsquo;t have kids, but might want them    straight   \n",
      "1  doesn&rsquo;t have kids, but might want them    straight   \n",
      "2                                           NaN    straight   \n",
      "3                       doesn&rsquo;t want kids    straight   \n",
      "4                                           NaN    straight   \n",
      "5  doesn&rsquo;t have kids, but might want them    straight   \n",
      "6                                           NaN    straight   \n",
      "7       doesn&rsquo;t have kids, but wants them    straight   \n",
      "8                       doesn&rsquo;t have kids    straight   \n",
      "9                                           NaN    straight   \n",
      "\n",
      "                        pets                                   religion sex  \\\n",
      "0  likes dogs and likes cats      agnosticism and very serious about it   m   \n",
      "1  likes dogs and likes cats   agnosticism but not too serious about it   m   \n",
      "2                   has cats                                        NaN   m   \n",
      "3                 likes cats                                        NaN   m   \n",
      "4  likes dogs and likes cats                                        NaN   m   \n",
      "5                 likes cats                                    atheism   m   \n",
      "6  likes dogs and likes cats                                        NaN   f   \n",
      "7  likes dogs and likes cats                               christianity   f   \n",
      "8  likes dogs and likes cats  christianity but not too serious about it   f   \n",
      "9  likes dogs and likes cats              atheism and laughing about it   m   \n",
      "\n",
      "                                 sign         smokes  \\\n",
      "0                              gemini      sometimes   \n",
      "1                              cancer             no   \n",
      "2  pisces but it doesn&rsquo;t matter             no   \n",
      "3                              pisces             no   \n",
      "4                            aquarius             no   \n",
      "5                              taurus             no   \n",
      "6                               virgo            NaN   \n",
      "7                         sagittarius             no   \n",
      "8  gemini but it doesn&rsquo;t matter  when drinking   \n",
      "9  cancer but it doesn&rsquo;t matter             no   \n",
      "\n",
      "                                              speaks     status  \n",
      "0                                            english     single  \n",
      "1  english (fluently), spanish (poorly), french (...     single  \n",
      "2                               english, french, c++  available  \n",
      "3                           english, german (poorly)     single  \n",
      "4                                            english     single  \n",
      "5                 english (fluently), chinese (okay)     single  \n",
      "6                                            english     single  \n",
      "7                            english, spanish (okay)     single  \n",
      "8                                            english     single  \n",
      "9                                 english (fluently)     single  \n",
      "\n",
      "[10 rows x 31 columns]\n"
     ]
    }
   ],
   "source": [
    "import numpy as np\n",
    "import pandas as pd\n",
    "from matplotlib import pyplot as plt\n",
    "import seaborn as sns\n",
    "\n",
    "df = pd.read_csv('profiles.csv')\n",
    "#print(len(df.location))\n",
    "loc_col = df.location\n",
    "\n",
    "true_list = []\n",
    "for loc in loc_col:\n",
    "    true_list.append(\"california\" in loc)\n",
    "#print(true_list)\n",
    "#All profiles in the sample are from Calofornia in the US\n",
    "#print(df.income)\n",
    "print(df.head(10))\n",
    "#print(df.religion.unique())"
   ]
  },
  {
   "cell_type": "code",
   "execution_count": 2,
   "id": "fc08865c",
   "metadata": {},
   "outputs": [
    {
     "data": {
      "text/plain": [
       "['age',\n",
       " 'body_type',\n",
       " 'diet',\n",
       " 'drinks',\n",
       " 'drugs',\n",
       " 'education',\n",
       " 'essay0',\n",
       " 'essay1',\n",
       " 'essay2',\n",
       " 'essay3',\n",
       " 'essay4',\n",
       " 'essay5',\n",
       " 'essay6',\n",
       " 'essay7',\n",
       " 'essay8',\n",
       " 'essay9',\n",
       " 'ethnicity',\n",
       " 'height',\n",
       " 'income',\n",
       " 'job',\n",
       " 'last_online',\n",
       " 'location',\n",
       " 'offspring',\n",
       " 'orientation',\n",
       " 'pets',\n",
       " 'religion',\n",
       " 'sex',\n",
       " 'sign',\n",
       " 'smokes',\n",
       " 'speaks',\n",
       " 'status']"
      ]
     },
     "execution_count": 2,
     "metadata": {},
     "output_type": "execute_result"
    }
   ],
   "source": [
    "list(df.columns)\n",
    "#Column description:\n",
    "#age: Age of the individual (continuous var.)\n",
    "#body_type: Self-described body type (categorical var.)\n",
    "#diet: Type of diet the individual follow (categorical var.)\n",
    "#drinks: Relationship the profile has with drinking (categorical var.)\n",
    "#drugs: Relationship the profile has with doing drugs (categorical var.)\n",
    "#education: Education attained by the individual (categorical var.)\n",
    "#essays (0-9): Answers to certain questions (string)\n",
    "#ethinicity: Individual's ethnicity (categorical var.)\n",
    "#height: Individual's height (continuous var.)\n",
    "#income: Yearly income (continous)\n",
    "#job: The individual's employment (categorical var.)\n",
    "#last_online: Date of the times time the individual was online (date)\n",
    "#location: Individual's location in California (categorical var.)\n",
    "#offspring: Individual's stance on having children (categorical var.)\n",
    "#orientation: Individual's sexual orientation (categorical var.)\n",
    "#pets: If the individual has pets (categorical var.)\n",
    "#religion: Religion of the individual (categorical var.)\n",
    "#sex: Individual's sex (categorical var.)\n",
    "#sign: Individual's sign (categorical var.)\n",
    "#smokes: Relationship the profile has with smoking (categorical var.)\n",
    "#speaks: Languages spoken by the individual (categorical var.)\n",
    "#status: If the individual is currently in a relationship (categorical var.)"
   ]
  },
  {
   "cell_type": "code",
   "execution_count": 3,
   "id": "666dd544",
   "metadata": {},
   "outputs": [
    {
     "name": "stdout",
     "output_type": "stream",
     "text": [
      "   age       body_type               diet    drinks      drugs  \\\n",
      "0   22  a little extra  strictly anything  socially      never   \n",
      "1   35         average       mostly other     often  sometimes   \n",
      "2   38            thin           anything  socially        NaN   \n",
      "3   23            thin         vegetarian  socially        NaN   \n",
      "4   29        athletic                NaN  socially      never   \n",
      "\n",
      "                           education  \\\n",
      "0      working on college/university   \n",
      "1              working on space camp   \n",
      "2     graduated from masters program   \n",
      "3      working on college/university   \n",
      "4  graduated from college/university   \n",
      "\n",
      "                                              essay0  \\\n",
      "0  about me:<br />\\n<br />\\ni would love to think...   \n",
      "1  i am a chef: this is what that means.<br />\\n1...   \n",
      "2  i'm not ashamed of much, but writing public te...   \n",
      "3          i work in a library and go to school. . .   \n",
      "4  hey how's it going? currently vague on the pro...   \n",
      "\n",
      "                                              essay1  \\\n",
      "0  currently working as an international agent fo...   \n",
      "1  dedicating everyday to being an unbelievable b...   \n",
      "2  i make nerdy software for musicians, artists, ...   \n",
      "3          reading things written by old dead people   \n",
      "4                         work work work work + play   \n",
      "\n",
      "                                              essay2  \\\n",
      "0  making people laugh.<br />\\nranting about a go...   \n",
      "1  being silly. having ridiculous amonts of fun w...   \n",
      "2  improvising in different contexts. alternating...   \n",
      "3  playing synthesizers and organizing books acco...   \n",
      "4  creating imagery to look at:<br />\\nhttp://bag...   \n",
      "\n",
      "                                              essay3  ...  \\\n",
      "0  the way i look. i am a six foot half asian, ha...  ...   \n",
      "1                                                NaN  ...   \n",
      "2  my large jaw and large glasses are the physica...  ...   \n",
      "3                  socially awkward but i do my best  ...   \n",
      "4            i smile a lot and my inquisitive nature  ...   \n",
      "\n",
      "                                   religion sex  \\\n",
      "0     agnosticism and very serious about it   m   \n",
      "1  agnosticism but not too serious about it   m   \n",
      "2                                       NaN   m   \n",
      "3                                       NaN   m   \n",
      "4                                       NaN   m   \n",
      "\n",
      "                                 sign     smokes  \\\n",
      "0                              gemini  sometimes   \n",
      "1                              cancer         no   \n",
      "2  pisces but it doesn&rsquo;t matter         no   \n",
      "3                              pisces         no   \n",
      "4                            aquarius         no   \n",
      "\n",
      "                                              speaks     status clean_signs  \\\n",
      "0                                            english     single      gemini   \n",
      "1  english (fluently), spanish (poorly), french (...     single      cancer   \n",
      "2                               english, french, c++  available      pisces   \n",
      "3                           english, german (poorly)     single      pisces   \n",
      "4                                            english     single    aquarius   \n",
      "\n",
      "   defined_income    defined_income_labels    clean_rel  \n",
      "0               0                  unknown  agnosticism  \n",
      "1               1  provided in the profile  agnosticism  \n",
      "2               0                  unknown          NaN  \n",
      "3               1  provided in the profile          NaN  \n",
      "4               0                  unknown          NaN  \n",
      "\n",
      "[5 rows x 35 columns]\n"
     ]
    }
   ],
   "source": [
    "#Cleaning/transforming the data\n",
    "#Signs:\n",
    "#print(df.sign.value_counts())\n",
    "#print(df.head())\n",
    "df[\"clean_signs\"] = df[\"sign\"].str.split().str.get(0)\n",
    "#print(df.clean_signs.value_counts())\n",
    "#Income:\n",
    "df[\"defined_income\"] = df[\"income\"].apply(lambda x: 1 if x != -1 else 0)\n",
    "df[\"defined_income_labels\"] = df[\"defined_income\"].apply(lambda x: \"provided in the profile\" if x == 1 else \"unknown\")\n",
    "#Religion:\n",
    "df[\"clean_rel\"] = df[\"religion\"].str.split().str.get(0)\n",
    "\n",
    "print(df.head())"
   ]
  },
  {
   "cell_type": "code",
   "execution_count": 4,
   "id": "a0bd8dbf",
   "metadata": {},
   "outputs": [
    {
     "data": {
      "image/png": "[encoded data removed]",
      "text/plain": [
       "<Figure size 432x288 with 1 Axes>"
      ]
     },
     "metadata": {},
     "output_type": "display_data"
    },
    {
     "name": "stdout",
     "output_type": "stream",
     "text": [
      "0    48442\n",
      "1    11504\n",
      "Name: defined_income, dtype: int64\n"
     ]
    }
   ],
   "source": [
    "#Only around one fifth of the profiles include their income\n",
    "plt.pie(df.defined_income.value_counts(), autopct=\"%1.0f%%\")\n",
    "plt.legend(df.defined_income_labels)\n",
    "plt.show()\n",
    "print(df.defined_income.value_counts())"
   ]
  },
  {
   "cell_type": "code",
   "execution_count": 5,
   "id": "dcdfab23",
   "metadata": {},
   "outputs": [
    {
     "data": {
      "image/png": "[encoded data removed]",
      "text/plain": [
       "<Figure size 432x288 with 1 Axes>"
      ]
     },
     "metadata": {
      "needs_background": "light"
     },
     "output_type": "display_data"
    },
    {
     "data": {
      "text/plain": [
       "<Figure size 432x288 with 0 Axes>"
      ]
     },
     "metadata": {},
     "output_type": "display_data"
    },
    {
     "data": {
      "image/png": "[encoded data removed]",
      "text/plain": [
       "<Figure size 405.625x360 with 1 Axes>"
      ]
     },
     "metadata": {
      "needs_background": "light"
     },
     "output_type": "display_data"
    },
    {
     "data": {
      "text/plain": [
       "<Figure size 432x288 with 0 Axes>"
      ]
     },
     "metadata": {},
     "output_type": "display_data"
    }
   ],
   "source": [
    "#There is a prevalence of younger addults in the sample. \n",
    "#There are more men than women in the sample\n",
    "#However, distribution-wise, there is no noticeable different distributions between the given genders\n",
    "ax = sns.violinplot(y=df.age, x= df.sex)\n",
    "ax.set_xlabel(\"Gender\")\n",
    "ax.set_ylabel(\"Age\")\n",
    "ax.set_title(\"Profile age distribution\")\n",
    "plt.show()\n",
    "plt.clf()\n",
    "ax2 = sns.displot(data=df, x=\"age\", hue=\"sex\", bins=30)\n",
    "plt.title(\"Profile age distribution\")\n",
    "plt.show()\n",
    "plt.clf()\n"
   ]
  },
  {
   "cell_type": "code",
   "execution_count": 6,
   "id": "673dd7a4",
   "metadata": {},
   "outputs": [
    {
     "data": {
      "image/png": "[encoded data removed]",
      "text/plain": [
       "<Figure size 432x288 with 1 Axes>"
      ]
     },
     "metadata": {
      "needs_background": "light"
     },
     "output_type": "display_data"
    },
    {
     "data": {
      "image/png": "[encoded data removed]",
      "text/plain": [
       "<Figure size 432x288 with 1 Axes>"
      ]
     },
     "metadata": {
      "needs_background": "light"
     },
     "output_type": "display_data"
    },
    {
     "data": {
      "image/png": "[encoded data removed]",
      "text/plain": [
       "<Figure size 432x288 with 1 Axes>"
      ]
     },
     "metadata": {
      "needs_background": "light"
     },
     "output_type": "display_data"
    }
   ],
   "source": [
    "ax1 = sns.countplot(data=df, x=df.drinks)\n",
    "ax1.set_title(\"Drinking among the profiles\")\n",
    "plt.show()\n",
    "plt.clf()\n",
    "ax2 = sns.countplot(data=df, x=df.drugs)\n",
    "ax2.set_title(\"Drug usage among the profiles\")\n",
    "plt.show()\n",
    "ax3 = sns.countplot(data=df, x=df.smokes)\n",
    "ax3.set_title(\"Smoking among the profiles\")\n",
    "plt.show()"
   ]
  },
  {
   "cell_type": "code",
   "execution_count": 7,
   "id": "849d666f",
   "metadata": {},
   "outputs": [
    {
     "data": {
      "image/png": "[encoded data removed]",
      "text/plain": [
       "<Figure size 432x288 with 1 Axes>"
      ]
     },
     "metadata": {
      "needs_background": "light"
     },
     "output_type": "display_data"
    },
    {
     "data": {
      "image/png": "[encoded data removed]",
      "text/plain": [
       "<Figure size 432x288 with 1 Axes>"
      ]
     },
     "metadata": {
      "needs_background": "light"
     },
     "output_type": "display_data"
    }
   ],
   "source": [
    "ax2 = sns.countplot(data=df, x=df.clean_rel)\n",
    "plt.xticks(rotation = 25)\n",
    "plt.title(\"Religious affiliation of the participants\")\n",
    "plt.show()\n",
    "plt.clf()\n",
    "ax3 = sns.countplot(data=df, x=df.orientation, hue=df.sex)\n",
    "ax3.set_title(\"Sexual orientation of the participants\")\n",
    "plt.show()"
   ]
  },
  {
   "cell_type": "code",
   "execution_count": 8,
   "id": "775365dc",
   "metadata": {},
   "outputs": [
    {
     "data": {
      "text/plain": [
       "(4465, 14)"
      ]
     },
     "execution_count": 8,
     "metadata": {},
     "output_type": "execute_result"
    }
   ],
   "source": [
    "df = df.drop(df[df.income == -1].index)\n",
    "cols = [\"body_type\", \"diet\", \"drinks\", \"drugs\", \"education\", \"height\", \"job\", \"location\", \"clean_rel\", \"sex\", \"clean_signs\", \"smokes\", \"income\", \"age\"]\n",
    "df = df[cols].dropna()\n",
    "df.shape"
   ]
  },
  {
   "cell_type": "code",
   "execution_count": 9,
   "id": "61271812",
   "metadata": {},
   "outputs": [],
   "source": [
    "for col in cols[:-2]:\n",
    "    df = pd.get_dummies(df, columns=[col], prefix = [col])"
   ]
  },
  {
   "cell_type": "code",
   "execution_count": 10,
   "id": "f3852ed7",
   "metadata": {},
   "outputs": [
    {
     "name": "stdout",
     "output_type": "stream",
     "text": [
      "    income  age  body_type_a little extra  body_type_athletic  \\\n",
      "1    80000   35                         0                   0   \n",
      "11   40000   28                         0                   0   \n",
      "14   50000   29                         0                   0   \n",
      "66   20000   22                         0                   1   \n",
      "72  150000   35                         0                   1   \n",
      "\n",
      "    body_type_average  body_type_curvy  body_type_fit  body_type_full figured  \\\n",
      "1                   1                0              0                       0   \n",
      "11                  1                0              0                       0   \n",
      "14                  0                0              0                       0   \n",
      "66                  0                0              0                       0   \n",
      "72                  0                0              0                       0   \n",
      "\n",
      "    body_type_jacked  body_type_overweight  ...  clean_signs_pisces  \\\n",
      "1                  0                     0  ...                   0   \n",
      "11                 0                     0  ...                   0   \n",
      "14                 0                     0  ...                   0   \n",
      "66                 0                     0  ...                   0   \n",
      "72                 0                     0  ...                   1   \n",
      "\n",
      "    clean_signs_sagittarius  clean_signs_scorpio  clean_signs_taurus  \\\n",
      "1                         0                    0                   0   \n",
      "11                        0                    0                   0   \n",
      "14                        0                    0                   1   \n",
      "66                        0                    0                   0   \n",
      "72                        0                    0                   0   \n",
      "\n",
      "    clean_signs_virgo  smokes_no  smokes_sometimes  smokes_trying to quit  \\\n",
      "1                   0          1                 0                      0   \n",
      "11                  0          1                 0                      0   \n",
      "14                  0          1                 0                      0   \n",
      "66                  1          1                 0                      0   \n",
      "72                  0          1                 0                      0   \n",
      "\n",
      "    smokes_when drinking  smokes_yes  \n",
      "1                      0           0  \n",
      "11                     0           0  \n",
      "14                     0           0  \n",
      "66                     0           0  \n",
      "72                     0           0  \n",
      "\n",
      "[5 rows x 234 columns]\n"
     ]
    }
   ],
   "source": [
    "print(df.head())"
   ]
  },
  {
   "cell_type": "code",
   "execution_count": 11,
   "id": "325f66d1",
   "metadata": {},
   "outputs": [],
   "source": [
    "col_length = len(df.columns)\n",
    "\n",
    "X = df.iloc[:, 1:col_length]\n",
    "Y = df.iloc[:, 0:1]\n",
    "\n",
    "from sklearn.model_selection import train_test_split \n",
    "X_train, X_test, Y_train, Y_test = train_test_split(X, Y, test_size=0.2, random_state = 1)\n",
    "\n",
    "Y_train = Y_train.to_numpy().ravel()\n",
    "Y_test = Y_test.to_numpy().ravel()"
   ]
  },
  {
   "cell_type": "code",
   "execution_count": 12,
   "id": "14ccf202",
   "metadata": {},
   "outputs": [
    {
     "data": {
      "text/plain": [
       "LogisticRegression(max_iter=10000)"
      ]
     },
     "execution_count": 12,
     "metadata": {},
     "output_type": "execute_result"
    }
   ],
   "source": [
    "from sklearn.linear_model import LogisticRegression\n",
    "\n",
    "reg = LogisticRegression(max_iter=10000)\n",
    "reg.fit(X_train, Y_train)\n"
   ]
  },
  {
   "cell_type": "code",
   "execution_count": 13,
   "id": "798fe406",
   "metadata": {},
   "outputs": [
    {
     "data": {
      "text/plain": [
       "0.3706606942889138"
      ]
     },
     "execution_count": 13,
     "metadata": {},
     "output_type": "execute_result"
    }
   ],
   "source": [
    "reg.predict(X_test)\n",
    "reg.score(X_test, Y_test)\n",
    "#A score of 37% indicates that the model while somewhat flawed is better than random chance at guessing one's income from one's profile information"
   ]
  },
  {
   "cell_type": "code",
   "execution_count": null,
   "id": "dca78a45",
   "metadata": {},
   "outputs": [],
   "source": [
    "from sklearn.neighbors import KNeighborsClassifier\n",
    "performance = []\n",
    "for k in range(1, 101):\n",
    "    kmodel = KNeighborsClassifier(n_neighbors = k)\n",
    "    kmodel.fit(X_train, Y_train)\n",
    "    performance.append(kmodel.score(X_test, Y_test))\n",
    "    \n",
    "    \n",
    "plt.plot(range(1, 101), performance)\n",
    "plt.show()\n",
    "\n",
    "print(max(performance))\n",
    "#The K-neighbours model does not perform better then the logistic regression. It guesses the person's income correctly\n",
    "#given the profile information slightly more than one third of the times"
   ]
  },
  {
   "cell_type": "code",
   "execution_count": null,
   "id": "a45868ac",
   "metadata": {},
   "outputs": [],
   "source": [
    "from sklearn.tree import DecisionTreeClassifier\n",
    "\n",
    "tree_model = DecisionTreeClassifier()\n",
    "tree_model.fit(X_train, Y_train) \n",
    "tree_model.score(X_test, Y_test)\n",
    "\n",
    "#The decision tree performs worse than the two models above guessing correctly only one fourth of the times"
   ]
  },
  {
   "cell_type": "code",
   "execution_count": null,
   "id": "ed365dfd",
   "metadata": {},
   "outputs": [],
   "source": []
  },
  {
   "cell_type": "code",
   "execution_count": null,
   "id": "d438fda0",
   "metadata": {},
   "outputs": [],
   "source": []
  }
 ],
 "metadata": {
  "kernelspec": {
   "display_name": "Python 3",
   "language": "python",
   "name": "python3"
  },
  "language_info": {
   "codemirror_mode": {
    "name": "ipython",
    "version": 3
   },
   "file_extension": ".py",
   "mimetype": "text/x-python",
   "name": "python",
   "nbconvert_exporter": "python",
   "pygments_lexer": "ipython3",
   "version": "3.8.8"
  }
 },
 "nbformat": 4,
 "nbformat_minor": 5
}
